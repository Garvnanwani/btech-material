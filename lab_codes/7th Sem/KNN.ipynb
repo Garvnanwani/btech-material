{
 "cells": [
  {
   "cell_type": "code",
   "execution_count": 2,
   "id": "466af2a6",
   "metadata": {},
   "outputs": [],
   "source": [
    "import numpy as np\n",
    "import matplotlib.pyplot as plt\n",
    "import pandas as pd\n",
    "import math"
   ]
  },
  {
   "cell_type": "code",
   "execution_count": 3,
   "id": "3c23441b",
   "metadata": {},
   "outputs": [
    {
     "name": "stdout",
     "output_type": "stream",
     "text": [
      "    Height  Weight T-Shirt_Size\n",
      "0      158      58            M\n",
      "1      158      59            M\n",
      "2      158      63            M\n",
      "3      160      59            M\n",
      "4      160      60            M\n",
      "5      163      60            M\n",
      "6      163      61            M\n",
      "7      160      64            L\n",
      "8      163      64            L\n",
      "9      165      61            L\n",
      "10     165      62            L\n",
      "11     165      65            L\n",
      "12     168      62            L\n",
      "13     168      63            L\n",
      "14     168      66            L\n",
      "15     170      63            L\n",
      "16     170      64            L\n",
      "17     170      68            L\n"
     ]
    }
   ],
   "source": [
    "df = pd.read_table(\"KNN.txt\")\n",
    "print(df)"
   ]
  },
  {
   "cell_type": "code",
   "execution_count": 4,
   "id": "75b86d4f",
   "metadata": {},
   "outputs": [
    {
     "name": "stdout",
     "output_type": "stream",
     "text": [
      "[[158 58 'M']\n",
      " [158 59 'M']\n",
      " [158 63 'M']\n",
      " [160 59 'M']\n",
      " [160 60 'M']\n",
      " [163 60 'M']\n",
      " [163 61 'M']\n",
      " [160 64 'L']\n",
      " [163 64 'L']\n",
      " [165 61 'L']\n",
      " [165 62 'L']\n",
      " [165 65 'L']\n",
      " [168 62 'L']\n",
      " [168 63 'L']\n",
      " [168 66 'L']\n",
      " [170 63 'L']\n",
      " [170 64 'L']\n",
      " [170 68 'L']]\n"
     ]
    }
   ],
   "source": [
    "\n",
    "x = np.array(df)\n",
    "\n",
    "n = len(x)\n",
    "print(x)\n",
    "\n"
   ]
  },
  {
   "cell_type": "code",
   "execution_count": 5,
   "id": "71494731",
   "metadata": {},
   "outputs": [],
   "source": [
    "def euc_dis(r1, r2):\n",
    "    dis = 0\n",
    "    for i in range(len(r1)-1):\n",
    "        dis += (r1[i] - r2[i]) ** 2\n",
    "    return math.sqrt(dis)\n"
   ]
  },
  {
   "cell_type": "code",
   "execution_count": 6,
   "id": "1f809eb5",
   "metadata": {},
   "outputs": [],
   "source": [
    "\n",
    "def k_neighbours(df, q, k):\n",
    "    distances = list()\n",
    "\n",
    "    for i in df:\n",
    "        dis = euc_dis(i, q)\n",
    "        distances.append((i, dis))\n",
    "    distances.sort(key=lambda tup: tup[1])\n",
    "\n",
    "    neighbours = list()\n",
    "    for i in range(k):\n",
    "        neighbours.append(distances[i][0])\n",
    "\n",
    "    return neighbours"
   ]
  },
  {
   "cell_type": "code",
   "execution_count": 7,
   "id": "9b751570",
   "metadata": {},
   "outputs": [],
   "source": [
    "def classify(df, q, k):\n",
    "    neighbours = k_neighbours(df, q, k)\n",
    "    output = [row[-1] for row in neighbours]\n",
    "    prediction = max(set(output), key=output.count)\n",
    "    return prediction\n",
    "\n"
   ]
  },
  {
   "cell_type": "code",
   "execution_count": 8,
   "id": "fedfeade",
   "metadata": {},
   "outputs": [
    {
     "name": "stdout",
     "output_type": "stream",
     "text": [
      "M\n"
     ]
    }
   ],
   "source": [
    "q = [165, 49]\n",
    "k = 5\n",
    "print(classify(x, q, k))"
   ]
  },
  {
   "cell_type": "code",
   "execution_count": null,
   "id": "9282f29e",
   "metadata": {},
   "outputs": [],
   "source": []
  }
 ],
 "metadata": {
  "kernelspec": {
   "display_name": "Python 3 (ipykernel)",
   "language": "python",
   "name": "python3"
  },
  "language_info": {
   "codemirror_mode": {
    "name": "ipython",
    "version": 3
   },
   "file_extension": ".py",
   "mimetype": "text/x-python",
   "name": "python",
   "nbconvert_exporter": "python",
   "pygments_lexer": "ipython3",
   "version": "3.8.10"
  }
 },
 "nbformat": 4,
 "nbformat_minor": 5
}
