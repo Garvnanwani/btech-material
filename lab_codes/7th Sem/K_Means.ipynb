{
 "cells": [
  {
   "cell_type": "code",
   "execution_count": 1,
   "id": "b21463d1",
   "metadata": {},
   "outputs": [],
   "source": [
    "from random import uniform\n",
    "import math"
   ]
  },
  {
   "cell_type": "code",
   "execution_count": 2,
   "id": "591c658f",
   "metadata": {},
   "outputs": [],
   "source": [
    "def ReadData(fileName): \n",
    "  \n",
    "    # Read the file, splitting by lines \n",
    "    f = open(fileName, 'r')\n",
    "    lines = f.read().splitlines()\n",
    "    f.close() \n",
    "  \n",
    "    items = []\n",
    "  \n",
    "    for val in lines: \n",
    "        line = val.split(',') \n",
    "        itemFeatures = []\n",
    "  \n",
    "        for num in line: \n",
    "            v = float(num)\n",
    "            itemFeatures.append(v)\n",
    "  \n",
    "        items.append(itemFeatures)   \n",
    "    return items"
   ]
  },
  {
   "cell_type": "code",
   "execution_count": 3,
   "id": "7a0ed5a2",
   "metadata": {},
   "outputs": [],
   "source": [
    "def FindColMinMax(items):\n",
    "    n = len(items[0])\n",
    "    minima = [float(\"inf\") for i in range(n)]\n",
    "    maxima = [float(\"-inf\") for i in range(n)]\n",
    "      \n",
    "    for item in items:\n",
    "        for i in range(len(item)):\n",
    "            minima[i]=min(minima[i], item[i])\n",
    "            maxima[i]=max(maxima[i], item[i])\n",
    "  \n",
    "    return minima,maxima"
   ]
  },
  {
   "cell_type": "code",
   "execution_count": 4,
   "id": "951fd8c6",
   "metadata": {},
   "outputs": [],
   "source": [
    "def InitializeMeans(items, k, cMin, cMax):    \n",
    "    f = len(items[0])\n",
    "    means = [[0 for i in range(f)] for j in range(k)]\n",
    "      \n",
    "    for mean in means:\n",
    "        for i in range(len(mean)):\n",
    "            mean[i] = uniform(cMin[i]+1, cMax[i]-1)\n",
    "    return means"
   ]
  },
  {
   "cell_type": "code",
   "execution_count": 5,
   "id": "c04716e5",
   "metadata": {},
   "outputs": [],
   "source": [
    "def EuclideanDistance(x, y): \n",
    "    S = 0;\n",
    "    for i in range(len(x)): \n",
    "        S += math.pow(x[i]-y[i], 2)\n",
    "  \n",
    "    return math.sqrt(S)"
   ]
  },
  {
   "cell_type": "code",
   "execution_count": 6,
   "id": "671b9256",
   "metadata": {},
   "outputs": [],
   "source": [
    "def UpdateMean(n,mean,item):\n",
    "    for i in range(len(mean)):\n",
    "        m = mean[i]\n",
    "        m = (m*(n-1)+item[i])/float(n)\n",
    "        mean[i] = round(m, 3)\n",
    "      \n",
    "    return mean"
   ]
  },
  {
   "cell_type": "code",
   "execution_count": 7,
   "id": "080ea760",
   "metadata": {},
   "outputs": [],
   "source": [
    "def FindClusters(means, items):\n",
    "    clusters = [[] for i in range(len(means))]\n",
    "      \n",
    "    for item in items:\n",
    "        index = Classify(means,item)  \n",
    "        clusters[index].append(item)\n",
    "    return clusters"
   ]
  },
  {
   "cell_type": "code",
   "execution_count": 8,
   "id": "9be3a8bb",
   "metadata": {},
   "outputs": [],
   "source": [
    "def Classify(means,item):  \n",
    "    minimum = float(\"inf\")\n",
    "    index = -1\n",
    "  \n",
    "    for i in range(len(means)):  \n",
    "        dis = EuclideanDistance(item, means[i])\n",
    "        \n",
    "        if (dis < minimum):\n",
    "            minimum = dis\n",
    "            index = i\n",
    "    return index"
   ]
  },
  {
   "cell_type": "code",
   "execution_count": 9,
   "id": "2826ff98",
   "metadata": {},
   "outputs": [],
   "source": [
    "def CalculateMeans(k, items, maxIterations=100000):\n",
    "    cMin, cMax = FindColMinMax(items)\n",
    "    \n",
    "    means = InitializeMeans(items,k,cMin,cMax)\n",
    "      \n",
    "    clusterSizes= [0 for i in range(len(means))]\n",
    "  \n",
    "    belongsTo = [0 for i in range(len(items))]\n",
    "  \n",
    "    for e in range(maxIterations):\n",
    "  \n",
    "        noChange = True\n",
    "        for i in range(len(items)):\n",
    "  \n",
    "            item = items[i];\n",
    "            index = Classify(means,item)\n",
    "  \n",
    "            clusterSizes[index] += 1\n",
    "            cSize = clusterSizes[index]\n",
    "            means[index] = UpdateMean(cSize,means[index],item)\n",
    "            if(index != belongsTo[i]):\n",
    "                noChange = False\n",
    "            belongsTo[i] = index\n",
    "            \n",
    "        if (noChange):\n",
    "            break\n",
    "            \n",
    "    return means"
   ]
  },
  {
   "cell_type": "code",
   "execution_count": 10,
   "id": "be7a1f40",
   "metadata": {},
   "outputs": [
    {
     "name": "stdout",
     "output_type": "stream",
     "text": [
      "[[16.667, 26.667], [4.667, 10.333], [15.0, 9.25]]\n",
      "[[[18.0, 30.0], [12.0, 20.0], [20.0, 30.0]], [[3.0, 10.0], [8.0, 12.0], [3.0, 9.0]], [[15.0, 5.0], [11.0, 8.0], [22.0, 10.0], [12.0, 14.0]]]\n"
     ]
    }
   ],
   "source": [
    "items = ReadData('K-Means.csv')\n",
    "k = 3\n",
    "means = CalculateMeans(k,items)\n",
    "clusters = FindClusters(means,items)\n",
    "print (means)\n",
    "print(clusters)"
   ]
  }
 ],
 "metadata": {
  "kernelspec": {
   "display_name": "Python 3.10.8 64-bit",
   "language": "python",
   "name": "python3"
  },
  "language_info": {
   "codemirror_mode": {
    "name": "ipython",
    "version": 3
   },
   "file_extension": ".py",
   "mimetype": "text/x-python",
   "name": "python",
   "nbconvert_exporter": "python",
   "pygments_lexer": "ipython3",
   "version": "3.10.8"
  },
  "vscode": {
   "interpreter": {
    "hash": "b0fa6594d8f4cbf19f97940f81e996739fb7646882a419484c72d19e05852a7e"
   }
  }
 },
 "nbformat": 4,
 "nbformat_minor": 5
}
