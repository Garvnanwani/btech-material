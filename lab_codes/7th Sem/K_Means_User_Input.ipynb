{
 "cells": [
  {
   "cell_type": "code",
   "execution_count": 1,
   "metadata": {},
   "outputs": [
    {
     "name": "stdout",
     "output_type": "stream",
     "text": [
      "Enter the value of k\n"
     ]
    },
    {
     "ename": "ValueError",
     "evalue": "invalid literal for int() with base 10: ''",
     "output_type": "error",
     "traceback": [
      "\u001b[0;31m---------------------------------------------------------------------------\u001b[0m",
      "\u001b[0;31mValueError\u001b[0m                                Traceback (most recent call last)",
      "Cell \u001b[0;32mIn [1], line 52\u001b[0m\n\u001b[1;32m     49\u001b[0m     \u001b[39mreturn\u001b[39;00m nCenters\n\u001b[1;32m     51\u001b[0m \u001b[39mprint\u001b[39m(\u001b[39m\"\u001b[39m\u001b[39mEnter the value of k\u001b[39m\u001b[39m\"\u001b[39m)\n\u001b[0;32m---> 52\u001b[0m k \u001b[39m=\u001b[39m \u001b[39mint\u001b[39;49m(\u001b[39minput\u001b[39;49m())\n\u001b[1;32m     53\u001b[0m centers \u001b[39m=\u001b[39m []\n\u001b[1;32m     54\u001b[0m \u001b[39mfor\u001b[39;00m i \u001b[39min\u001b[39;00m \u001b[39mrange\u001b[39m(k):\n",
      "\u001b[0;31mValueError\u001b[0m: invalid literal for int() with base 10: ''"
     ]
    }
   ],
   "source": [
    "import math\n",
    "data = [\n",
    "        [3,10],\n",
    "        [8,12],\n",
    "        [15,5],\n",
    "        [3,9],\n",
    "        [11,8],\n",
    "        [22,10],\n",
    "        [18,30],\n",
    "        [12,20],\n",
    "        [12,14],\n",
    "        [20,30]\n",
    "]\n",
    "\n",
    "x = [i[0] for i in data]\n",
    "y = [i[1] for i in data]\n",
    "\n",
    "# Distance formula\n",
    "def dist(center, point):\n",
    "    d = 0.0\n",
    "    for i in range(0,len(point)):\n",
    "        d += (center[i]-point[i])**2\n",
    "    return math.sqrt(d)\n",
    "\n",
    "def assignClusters(centers, dataset):\n",
    "    clusters = []\n",
    "    for i in range(len(dataset)):\n",
    "        distances = []\n",
    "        for center in centers:\n",
    "            distances.append(dist(center, dataset[i]))\n",
    "        temp = [z for z, val in enumerate(distances) if val==min(distances)]\n",
    "        clusters.append(temp[0])\n",
    "    return clusters\n",
    "\n",
    "def mean_center(k, dataset, clusters):\n",
    "    nCenters = []\n",
    "    for i in range(k):\n",
    "        x = 0.0\n",
    "        y = 0.0\n",
    "        count = 0\n",
    "        for j in range(len(clusters)):\n",
    "            if(i == clusters[j]):\n",
    "                x += dataset[j][0]\n",
    "                y += dataset[j][1]\n",
    "                count += 1\n",
    "        x = x/count\n",
    "        y = y/count\n",
    "        nCenters.append([x,y])\n",
    "    return nCenters\n",
    "\n",
    "print(\"Enter the value of k\")\n",
    "k = int(input())\n",
    "centers = []\n",
    "for i in range(k):\n",
    "    print(\"Enter Center \"+str(i))\n",
    "    temp = [int(x) for x in input().split()]\n",
    "    centers.append(temp)\n",
    "\n",
    "print(\"Initial centers are: \")\n",
    "print(centers)\n",
    "print(\"Initial clusters  are: \")\n",
    "clusters = assignClusters(centers, data)\n",
    "for i in range(k):\n",
    "    print(\"Cluster \"+str(i))\n",
    "    for j in range(len(clusters)):\n",
    "        if(i == clusters[j]):\n",
    "            print(data[j],end=' ')\n",
    "    print()\n",
    "print()\n",
    "for itr in range(4):\n",
    "    print(\"Iteration \"+str(itr))\n",
    "    centers = mean_center(k,data,clusters)\n",
    "    print(\"Updated centers: \")\n",
    "    print(centers)\n",
    "    clusters = assignClusters(centers, data)\n",
    "    print(\"Updated clusters: \")\n",
    "    for i in range(k):\n",
    "        print(\"cluster \"+str(i))\n",
    "        for j in range(len(clusters)):\n",
    "            if(i == clusters[j]):\n",
    "                print(data[j],end=' ')\n",
    "        print()"
   ]
  }
 ],
 "metadata": {
  "kernelspec": {
   "display_name": "Python 3.10.8 64-bit",
   "language": "python",
   "name": "python3"
  },
  "language_info": {
   "codemirror_mode": {
    "name": "ipython",
    "version": 3
   },
   "file_extension": ".py",
   "mimetype": "text/x-python",
   "name": "python",
   "nbconvert_exporter": "python",
   "pygments_lexer": "ipython3",
   "version": "3.10.8"
  },
  "orig_nbformat": 4,
  "vscode": {
   "interpreter": {
    "hash": "b0fa6594d8f4cbf19f97940f81e996739fb7646882a419484c72d19e05852a7e"
   }
  }
 },
 "nbformat": 4,
 "nbformat_minor": 2
}
