{
 "cells": [
  {
   "cell_type": "code",
   "execution_count": 3,
   "id": "91e2d371",
   "metadata": {},
   "outputs": [
    {
     "ename": "ModuleNotFoundError",
     "evalue": "No module named 'pandas'",
     "output_type": "error",
     "traceback": [
      "\u001b[0;31m---------------------------------------------------------------------------\u001b[0m",
      "\u001b[0;31mModuleNotFoundError\u001b[0m                       Traceback (most recent call last)",
      "Cell \u001b[0;32mIn [3], line 2\u001b[0m\n\u001b[1;32m      1\u001b[0m \u001b[39mimport\u001b[39;00m \u001b[39mnumpy\u001b[39;00m \u001b[39mas\u001b[39;00m \u001b[39mnp\u001b[39;00m\n\u001b[0;32m----> 2\u001b[0m \u001b[39mimport\u001b[39;00m \u001b[39mpandas\u001b[39;00m \u001b[39mas\u001b[39;00m \u001b[39mpd\u001b[39;00m\n\u001b[1;32m      3\u001b[0m \u001b[39mimport\u001b[39;00m \u001b[39mmath\u001b[39;00m\n",
      "\u001b[0;31mModuleNotFoundError\u001b[0m: No module named 'pandas'"
     ]
    }
   ],
   "source": [
    "import numpy as np\n",
    "import pandas as pd\n",
    "import math"
   ]
  },
  {
   "cell_type": "markdown",
   "id": "53ca6887",
   "metadata": {},
   "source": []
  },
  {
   "cell_type": "code",
   "execution_count": null,
   "id": "ef6f222b",
   "metadata": {},
   "outputs": [
    {
     "name": "stdout",
     "output_type": "stream",
     "text": [
      "             Name Blood_Type Can_Fly Have_Legs Have_Wings       Class\n",
      "0           Human       Warm      No       Yes         No      Mammal\n",
      "1          Python       Cold      No        No         No  Non-Mammal\n",
      "2          Salmon       Cold      No        No         No  Non-Mammal\n",
      "3           Whale       Warm      No        No         No      Mammal\n",
      "4            Frog       Cold      No       Yes         No  Non-Mammal\n",
      "5          Komodo       Cold      No       Yes         No  Non-Mammal\n",
      "6             Bat       Warm     Yes       Yes        Yes      Mammal\n",
      "7          Pigeon       Warm     Yes       Yes        Yes  Non-Mammal\n",
      "8             Cat       Warm      No       Yes         No      Mammal\n",
      "9   Leopard_Shark       Cold      No        No         No  Non-Mammal\n",
      "10         Turtle       Cold      No       Yes         No  Non-Mammal\n",
      "11        Penguin       Warm      No       Yes        Yes  Non-Mammal\n",
      "12      Porcupine       Warm      No       Yes         No      Mammal\n",
      "13            Eel       Cold      No        No         No  Non-Mammal\n",
      "14     Salamander       Cold      No       Yes         No  Non-Mammal\n",
      "15   Gila_Monster       Cold      No       Yes         No  Non-Mammal\n",
      "16       Platypus       Warm      No       Yes         No      Mammal\n",
      "17            Owl       Warm     Yes       Yes        Yes  Non-Mammal\n",
      "18        Dolphin       Warm     Yes        No         No      Mammal\n",
      "19          Eagle       Warm     Yes       Yes        Yes  Non-Mammal\n"
     ]
    }
   ],
   "source": [
    "df = pd.read_table(\"Classification.txt\")\n",
    "print(df)"
   ]
  },
  {
   "cell_type": "code",
   "execution_count": null,
   "id": "a57e63b2",
   "metadata": {},
   "outputs": [
    {
     "name": "stdout",
     "output_type": "stream",
     "text": [
      "   Blood_Type Can_Fly Have_Legs Have_Wings\n",
      "0        Warm      No       Yes         No\n",
      "1        Cold      No        No         No\n",
      "2        Cold      No        No         No\n",
      "3        Warm      No        No         No\n",
      "4        Cold      No       Yes         No\n",
      "5        Cold      No       Yes         No\n",
      "6        Warm     Yes       Yes        Yes\n",
      "7        Warm     Yes       Yes        Yes\n",
      "8        Warm      No       Yes         No\n",
      "9        Cold      No        No         No\n",
      "10       Cold      No       Yes         No\n",
      "11       Warm      No       Yes        Yes\n",
      "12       Warm      No       Yes         No\n",
      "13       Cold      No        No         No\n",
      "14       Cold      No       Yes         No\n",
      "15       Cold      No       Yes         No\n",
      "16       Warm      No       Yes         No\n",
      "17       Warm     Yes       Yes        Yes\n",
      "18       Warm     Yes        No         No\n",
      "19       Warm     Yes       Yes        Yes\n",
      "0         Mammal\n",
      "1     Non-Mammal\n",
      "2     Non-Mammal\n",
      "3         Mammal\n",
      "4     Non-Mammal\n",
      "5     Non-Mammal\n",
      "6         Mammal\n",
      "7     Non-Mammal\n",
      "8         Mammal\n",
      "9     Non-Mammal\n",
      "10    Non-Mammal\n",
      "11    Non-Mammal\n",
      "12        Mammal\n",
      "13    Non-Mammal\n",
      "14    Non-Mammal\n",
      "15    Non-Mammal\n",
      "16        Mammal\n",
      "17    Non-Mammal\n",
      "18        Mammal\n",
      "19    Non-Mammal\n",
      "Name: Class, dtype: object\n",
      "0             Human\n",
      "1            Python\n",
      "2            Salmon\n",
      "3             Whale\n",
      "4              Frog\n",
      "5            Komodo\n",
      "6               Bat\n",
      "7            Pigeon\n",
      "8               Cat\n",
      "9     Leopard_Shark\n",
      "10           Turtle\n",
      "11          Penguin\n",
      "12        Porcupine\n",
      "13              Eel\n",
      "14       Salamander\n",
      "15     Gila_Monster\n",
      "16         Platypus\n",
      "17              Owl\n",
      "18          Dolphin\n",
      "19            Eagle\n",
      "Name: Name, dtype: object\n"
     ]
    }
   ],
   "source": [
    "X = df.drop([df.columns[-1]], axis = 1)\n",
    "X = X.drop([df.columns[0]], axis = 1)\n",
    "y = df[df.columns[-1]]\n",
    "names = df[df.columns[0]]\n",
    "print(X)\n",
    "print(y)\n",
    "print(names)"
   ]
  },
  {
   "cell_type": "code",
   "execution_count": null,
   "id": "3f9340f2",
   "metadata": {},
   "outputs": [
    {
     "name": "stdout",
     "output_type": "stream",
     "text": [
      "['Blood_Type', 'Can_Fly', 'Have_Legs', 'Have_Wings']\n"
     ]
    }
   ],
   "source": [
    "features = list(X.columns)\n",
    "print(features)"
   ]
  },
  {
   "cell_type": "code",
   "execution_count": null,
   "id": "db8c1037",
   "metadata": {},
   "outputs": [],
   "source": [
    "train_size = X.shape[0]\n",
    "num_feat  = X.shape[1]"
   ]
  },
  {
   "cell_type": "code",
   "execution_count": null,
   "id": "ddf193d2",
   "metadata": {},
   "outputs": [],
   "source": [
    "# P(x|c)- Likelihood\n",
    "likelihoods = {}\n",
    "# P(c) - Priori\n",
    "class_prior = {}\n",
    "# P(x) - Evidence\n",
    "pred_prior = {}\n"
   ]
  },
  {
   "cell_type": "code",
   "execution_count": null,
   "id": "bdd884f6",
   "metadata": {},
   "outputs": [],
   "source": [
    "for feature in features:\n",
    "    likelihoods[feature] = {}\n",
    "    pred_prior[feature] = {}\n",
    "    for feat_val in np.unique(X[feature]):\n",
    "        pred_prior[feature].update({feat_val: 0})\n",
    "        for outcome in np.unique(y):\n",
    "            likelihoods[feature].update({feat_val+ '_' +outcome: 0})\n",
    "            class_prior.update({outcome: 0})"
   ]
  },
  {
   "cell_type": "code",
   "execution_count": null,
   "id": "ffdbaa48",
   "metadata": {},
   "outputs": [
    {
     "data": {
      "text/plain": [
       "array(['No', 'Yes'], dtype=object)"
      ]
     },
     "execution_count": 97,
     "metadata": {},
     "output_type": "execute_result"
    }
   ],
   "source": [
    "np.unique(X[feature])"
   ]
  },
  {
   "cell_type": "code",
   "execution_count": null,
   "id": "4107dbd0",
   "metadata": {},
   "outputs": [
    {
     "name": "stdout",
     "output_type": "stream",
     "text": [
      "{'Blood_Type': {'Cold_Mammal': 0, 'Cold_Non-Mammal': 0, 'Warm_Mammal': 0, 'Warm_Non-Mammal': 0}, 'Can_Fly': {'No_Mammal': 0, 'No_Non-Mammal': 0, 'Yes_Mammal': 0, 'Yes_Non-Mammal': 0}, 'Have_Legs': {'No_Mammal': 0, 'No_Non-Mammal': 0, 'Yes_Mammal': 0, 'Yes_Non-Mammal': 0}, 'Have_Wings': {'No_Mammal': 0, 'No_Non-Mammal': 0, 'Yes_Mammal': 0, 'Yes_Non-Mammal': 0}}\n",
      "{'Mammal': 0, 'Non-Mammal': 0}\n",
      "{'Blood_Type': {'Cold': 0, 'Warm': 0}, 'Can_Fly': {'No': 0, 'Yes': 0}, 'Have_Legs': {'No': 0, 'Yes': 0}, 'Have_Wings': {'No': 0, 'Yes': 0}}\n"
     ]
    }
   ],
   "source": [
    "print(likelihoods)\n",
    "print(class_prior)\n",
    "print(pred_prior)"
   ]
  },
  {
   "cell_type": "code",
   "execution_count": null,
   "id": "f0cac5ff",
   "metadata": {},
   "outputs": [
    {
     "name": "stdout",
     "output_type": "stream",
     "text": [
      "7\n",
      "13\n"
     ]
    }
   ],
   "source": [
    "for outcome in np.unique(y):\n",
    "    outcome_count = sum(y == outcome)\n",
    "    print(outcome_count)\n",
    "    class_prior[outcome] = outcome_count/train_size\n",
    "\n",
    "    "
   ]
  },
  {
   "cell_type": "code",
   "execution_count": null,
   "id": "f955de49",
   "metadata": {},
   "outputs": [
    {
     "name": "stdout",
     "output_type": "stream",
     "text": [
      "Blood_Type\n",
      "7\n",
      "{'Warm': 7}\n",
      "13\n",
      "{'Cold': 9, 'Warm': 4}\n",
      "Can_Fly\n",
      "7\n",
      "{'No': 5, 'Yes': 2}\n",
      "13\n",
      "{'No': 10, 'Yes': 3}\n",
      "Have_Legs\n",
      "7\n",
      "{'Yes': 5, 'No': 2}\n",
      "13\n",
      "{'Yes': 9, 'No': 4}\n",
      "Have_Wings\n",
      "7\n",
      "{'No': 6, 'Yes': 1}\n",
      "13\n",
      "{'No': 9, 'Yes': 4}\n"
     ]
    }
   ],
   "source": [
    "for feature in features:\n",
    "    print(feature)\n",
    "    for outcome in np.unique(y):\n",
    "        outcome_count = sum(y == outcome)\n",
    "        print(outcome_count)\n",
    "        feat_likelihood = X[feature][y[y == outcome].index.values.tolist()].value_counts().to_dict()\n",
    "        for feat_val, count in feat_likelihood.items():\n",
    "            likelihoods[feature][feat_val+'_'+outcome] = count/outcome_count\n",
    "        print(feat_likelihood)"
   ]
  },
  {
   "cell_type": "code",
   "execution_count": null,
   "id": "31f685cd",
   "metadata": {},
   "outputs": [
    {
     "name": "stdout",
     "output_type": "stream",
     "text": [
      "Blood_Type\n",
      "{'Warm': 11, 'Cold': 9}\n",
      "Can_Fly\n",
      "{'No': 15, 'Yes': 5}\n",
      "Have_Legs\n",
      "{'Yes': 14, 'No': 6}\n",
      "Have_Wings\n",
      "{'No': 15, 'Yes': 5}\n"
     ]
    }
   ],
   "source": [
    "for feature in features:\n",
    "    print(feature)\n",
    "    feat_vals = X[feature].value_counts().to_dict()\n",
    "    print(feat_vals)\n",
    "    for feat_val, count in feat_vals.items():\n",
    "        pred_prior[feature][feat_val] = count/train_size"
   ]
  },
  {
   "cell_type": "code",
   "execution_count": null,
   "id": "a80d8caf",
   "metadata": {},
   "outputs": [],
   "source": [
    "#  P(c|x) - Posteriori\n",
    "\n",
    "def predict(query):\n",
    "    print(query)\n",
    "    probs_outcome = {}\n",
    "    for outcome in np.unique(y):\n",
    "        prior = class_prior[outcome]\n",
    "        likelihood = 1\n",
    "        evidence = 1\n",
    "        for feat, feat_val in zip(features, query):\n",
    "            likelihood *= likelihoods[feat][feat_val+'_'+outcome]\n",
    "            evidence *= pred_prior[feat][feat_val]\n",
    "        posterior = (likelihood*prior) / evidence\n",
    "        probs_outcome[outcome] = posterior\n",
    "    result = max(probs_outcome, key = lambda x: probs_outcome[x])\n",
    "    return result\n",
    "\n"
   ]
  },
  {
   "cell_type": "code",
   "execution_count": null,
   "id": "cdb3a653",
   "metadata": {},
   "outputs": [
    {
     "name": "stdout",
     "output_type": "stream",
     "text": [
      "['Warm' 'No' 'No' 'Yes']\n",
      "Non-Mammal\n"
     ]
    }
   ],
   "source": [
    "\n",
    "query = np.array(['Warm', 'No', 'No', 'Yes'])\n",
    "print(predict(query))\n"
   ]
  },
  {
   "cell_type": "code",
   "execution_count": null,
   "id": "842d3077",
   "metadata": {},
   "outputs": [],
   "source": []
  }
 ],
 "metadata": {
  "kernelspec": {
   "display_name": "Python 3 (ipykernel)",
   "language": "python",
   "name": "python3"
  },
  "language_info": {
   "codemirror_mode": {
    "name": "ipython",
    "version": 3
   },
   "file_extension": ".py",
   "mimetype": "text/x-python",
   "name": "python",
   "nbconvert_exporter": "python",
   "pygments_lexer": "ipython3",
   "version": "3.8.10"
  }
 },
 "nbformat": 4,
 "nbformat_minor": 5
}
