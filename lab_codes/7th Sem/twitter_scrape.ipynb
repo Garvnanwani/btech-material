{
 "cells": [
  {
   "cell_type": "code",
   "execution_count": 11,
   "metadata": {},
   "outputs": [],
   "source": [
    "import tweepy\n",
    "import emoji\n",
    "import csv\n",
    "import re"
   ]
  },
  {
   "cell_type": "code",
   "execution_count": 12,
   "metadata": {},
   "outputs": [],
   "source": [
    "\n",
    "api = tweepy.Client(bearer_token = 'insert_your_bearer_token_here')"
   ]
  },
  {
   "cell_type": "code",
   "execution_count": 13,
   "metadata": {},
   "outputs": [],
   "source": [
    "def search_tweets(query, max_results):\n",
    "    tweets = api.search_recent_tweets(query = query + \" -RT\", max_results = max_results)\n",
    "    return tweets\n"
   ]
  },
  {
   "cell_type": "code",
   "execution_count": 14,
   "metadata": {},
   "outputs": [],
   "source": [
    "tweet = search_tweets('weather', 20)\n",
    "\n",
    "result = []\n",
    "sentences = []\n",
    "words = []\n",
    "data = []"
   ]
  },
  {
   "cell_type": "code",
   "execution_count": 15,
   "metadata": {},
   "outputs": [],
   "source": [
    "\n",
    "for tweet in tweet.data:\n",
    "  tweet.text = re.sub(',+', '', tweet.text)\n",
    "  tweet.text = re.sub('-+', '', tweet.text)\n",
    "  tweet.text = re.sub('@+','',tweet.text)\n",
    "  tweet.text = re.sub('#[^\\s]+', '',tweet.text)\n",
    "  tweet.text = re.sub('http[^\\s]+','URL',tweet.text)\n",
    "\n",
    "  result.append(tweet.text.lower())\n",
    "\n",
    "for tweet in result:\n",
    "    word = tweet.split(' ')\n",
    "    words.append(word)\n",
    "    sentence = tweet.split('.')\n",
    "    sentences.append(sentence)\n",
    "\n",
    "for i in words:\n",
    "    word = []\n",
    "    for p in i:\n",
    "        p = emoji.demojize(p)\n",
    "        p = re.sub('_+', \" \", p)\n",
    "        word.append(p)\n",
    "    data.append(word)\n",
    "\n",
    "for j in sentences:\n",
    "    sentence = []\n",
    "    for k in j:\n",
    "       k = emoji.demojize(k)\n",
    "       k = re.sub('_+', \" \", k)\n",
    "       sentence.append(k)\n",
    "    data.append(sentence)"
   ]
  },
  {
   "cell_type": "code",
   "execution_count": 16,
   "metadata": {},
   "outputs": [],
   "source": [
    "with open('tweets.csv', 'w', encoding ='UTF8', newline='') as f:\n",
    "    writer = csv.writer(f)\n",
    "    for row in data:\n",
    "        writer.writerow(row)"
   ]
  }
 ],
 "metadata": {
  "kernelspec": {
   "display_name": "Python 3.10.6 64-bit",
   "language": "python",
   "name": "python3"
  },
  "language_info": {
   "codemirror_mode": {
    "name": "ipython",
    "version": 3
   },
   "file_extension": ".py",
   "mimetype": "text/x-python",
   "name": "python",
   "nbconvert_exporter": "python",
   "pygments_lexer": "ipython3",
   "version": "3.10.8"
  },
  "orig_nbformat": 4,
  "vscode": {
   "interpreter": {
    "hash": "b0fa6594d8f4cbf19f97940f81e996739fb7646882a419484c72d19e05852a7e"
   }
  }
 },
 "nbformat": 4,
 "nbformat_minor": 2
}
