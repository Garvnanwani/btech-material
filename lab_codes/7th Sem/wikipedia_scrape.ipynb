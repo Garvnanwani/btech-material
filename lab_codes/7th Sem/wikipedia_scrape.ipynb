{
 "cells": [
  {
   "cell_type": "code",
   "execution_count": 1,
   "metadata": {},
   "outputs": [],
   "source": [
    "from bs4 import BeautifulSoup\n",
    "import requests\n",
    "import csv"
   ]
  },
  {
   "cell_type": "code",
   "execution_count": 2,
   "metadata": {},
   "outputs": [],
   "source": [
    "count = 0\n",
    "\n",
    "def getdata(url):\n",
    "    r = requests.get(url)\n",
    "    return r.text\n",
    "\n",
    "paragraphs = []\n",
    "infobox = []\n",
    "article_name = []\n",
    "\n",
    "link = getdata(\"https://en.wikipedia.org/wiki/Charles_Babbage\")\n",
    "soup = BeautifulSoup(link, 'html.parser')\n",
    "\n",
    "title = soup.find('h1').get_text()\n",
    "infobox_content = soup.find('table')\n",
    "paragraph = soup.find_all('p')[1].get_text()\n",
    "article_name.append(title)"
   ]
  },
  {
   "cell_type": "code",
   "execution_count": 3,
   "metadata": {},
   "outputs": [],
   "source": [
    "if infobox_content is None:\n",
    "    infobox.append('No Content in Infobox')\n",
    "else:\n",
    "    infobox.append(infobox_content.get_text())\n",
    "\n",
    "paragraphs.append(paragraph)\n",
    "\n",
    "alllinks = soup.find_all(\"a\", href = True, text = True)\n",
    "\n",
    "links = \"\""
   ]
  },
  {
   "cell_type": "code",
   "execution_count": 4,
   "metadata": {},
   "outputs": [],
   "source": [
    "for i in alllinks:\n",
    "    if i['href'].find(\"/wiki/\") == -1:\n",
    "        continue\n",
    "    count += 1\n",
    "    links = i['href']\n",
    "    paragraph = \"https://en.wikipedia.org\" + links\n",
    "    link = getdata(paragraph)\n",
    "    soup = BeautifulSoup(link, 'html.parser')\n",
    "    infobox_content = soup.find('table')\n",
    "    title = soup.find('h1').get_text()\n",
    "    paragraph = soup.find_all('p')[1].get_text()\n",
    "    article_name.append(title)\n",
    "    if infobox_content is None:\n",
    "        infobox.append('No InfoBox')\n",
    "    else:\n",
    "        infobox.append(infobox_content.get_text())\n",
    "    paragraphs.append(paragraph)\n",
    "    if count == 10:\n",
    "        break\n",
    "\n",
    "datarow = []\n",
    "maxArticle = 0\n",
    "while maxArticle != 11:\n",
    "    i = [article_name[maxArticle], infobox[maxArticle], paragraphs[maxArticle]]\n",
    "    datarow.append(i)\n",
    "    maxArticle += 1\n",
    "\n",
    "with open('wiki.csv', 'w', encoding ='UTF8') as f:\n",
    "   writer = csv.writer(f)\n",
    "   for row in datarow:\n",
    "        writer.writerow(row)"
   ]
  }
 ],
 "metadata": {
  "kernelspec": {
   "display_name": "Python 3.10.6 64-bit",
   "language": "python",
   "name": "python3"
  },
  "language_info": {
   "codemirror_mode": {
    "name": "ipython",
    "version": 3
   },
   "file_extension": ".py",
   "mimetype": "text/x-python",
   "name": "python",
   "nbconvert_exporter": "python",
   "pygments_lexer": "ipython3",
   "version": "3.10.8"
  },
  "orig_nbformat": 4,
  "vscode": {
   "interpreter": {
    "hash": "b0fa6594d8f4cbf19f97940f81e996739fb7646882a419484c72d19e05852a7e"
   }
  }
 },
 "nbformat": 4,
 "nbformat_minor": 2
}
