{
 "cells": [
  {
   "attachments": {},
   "cell_type": "markdown",
   "id": "43529b8b",
   "metadata": {},
   "source": [
    "#### Import Libraries"
   ]
  },
  {
   "cell_type": "code",
   "execution_count": 3,
   "id": "bd2983fa",
   "metadata": {},
   "outputs": [],
   "source": [
    "import pandas as pd\n",
    "from collections import defaultdict"
   ]
  },
  {
   "attachments": {},
   "cell_type": "markdown",
   "id": "85d14ec1",
   "metadata": {},
   "source": [
    "#### Read File"
   ]
  },
  {
   "cell_type": "code",
   "execution_count": 4,
   "id": "22d85ed1",
   "metadata": {
    "scrolled": true
   },
   "outputs": [
    {
     "data": {
      "text/html": [
       "<div>\n",
       "<style scoped>\n",
       "    .dataframe tbody tr th:only-of-type {\n",
       "        vertical-align: middle;\n",
       "    }\n",
       "\n",
       "    .dataframe tbody tr th {\n",
       "        vertical-align: top;\n",
       "    }\n",
       "\n",
       "    .dataframe thead th {\n",
       "        text-align: right;\n",
       "    }\n",
       "</style>\n",
       "<table border=\"1\" class=\"dataframe\">\n",
       "  <thead>\n",
       "    <tr style=\"text-align: right;\">\n",
       "      <th></th>\n",
       "      <th>Words</th>\n",
       "      <th>Class</th>\n",
       "    </tr>\n",
       "  </thead>\n",
       "  <tbody>\n",
       "    <tr>\n",
       "      <th>0</th>\n",
       "      <td>Chinese Beijing Chinese</td>\n",
       "      <td>C</td>\n",
       "    </tr>\n",
       "    <tr>\n",
       "      <th>1</th>\n",
       "      <td>Chinese Chinese Shanghai</td>\n",
       "      <td>C</td>\n",
       "    </tr>\n",
       "    <tr>\n",
       "      <th>2</th>\n",
       "      <td>Chinese Macao</td>\n",
       "      <td>C</td>\n",
       "    </tr>\n",
       "    <tr>\n",
       "      <th>3</th>\n",
       "      <td>Tokyo Japan Chinese</td>\n",
       "      <td>J</td>\n",
       "    </tr>\n",
       "  </tbody>\n",
       "</table>\n",
       "</div>"
      ],
      "text/plain": [
       "                      Words Class\n",
       "0   Chinese Beijing Chinese     C\n",
       "1  Chinese Chinese Shanghai     C\n",
       "2             Chinese Macao     C\n",
       "3       Tokyo Japan Chinese     J"
      ]
     },
     "execution_count": 4,
     "metadata": {},
     "output_type": "execute_result"
    }
   ],
   "source": [
    "df=pd.read_excel(\"Document.xlsx\")\n",
    "df"
   ]
  },
  {
   "attachments": {},
   "cell_type": "markdown",
   "id": "ac58be9b",
   "metadata": {},
   "source": [
    "#### Column names and Laplace value"
   ]
  },
  {
   "cell_type": "code",
   "execution_count": 5,
   "id": "54db90e0",
   "metadata": {},
   "outputs": [],
   "source": [
    "words_col=\"Words\"\n",
    "class_col=\"Class\"\n",
    "laplace=1"
   ]
  },
  {
   "attachments": {},
   "cell_type": "markdown",
   "id": "f1312c4a",
   "metadata": {},
   "source": [
    "#### Get all classes and store no of words in each class"
   ]
  },
  {
   "cell_type": "code",
   "execution_count": 6,
   "id": "333ed676",
   "metadata": {},
   "outputs": [
    {
     "name": "stdout",
     "output_type": "stream",
     "text": [
      "{'C': defaultdict(<class 'int'>, {'chinese': 5, 'beijing': 1, 'shanghai': 1, 'macao': 1}), 'J': defaultdict(<class 'int'>, {'tokyo': 1, 'japan': 1, 'chinese': 1})}\n"
     ]
    },
    {
     "data": {
      "text/plain": [
       "{'beijing', 'chinese', 'japan', 'macao', 'shanghai', 'tokyo'}"
      ]
     },
     "execution_count": 6,
     "metadata": {},
     "output_type": "execute_result"
    }
   ],
   "source": [
    "unique_words=set()    # to store unique words\n",
    "word_cnt={}           # to store every word count in each class\n",
    "\n",
    "for i in df.index:\n",
    "    temp=df[words_col][i].lower().split()    # separate each word\n",
    "    cls=df[class_col][i]          # store class name\n",
    "    \n",
    "    if (cls not in word_cnt):\n",
    "        word_cnt[cls]=defaultdict(int)\n",
    "    \n",
    "    for val in temp:\n",
    "        word_cnt[cls][val]+=1\n",
    "        unique_words.add(val)\n",
    "print(word_cnt)\n",
    "unique_words"
   ]
  },
  {
   "attachments": {},
   "cell_type": "markdown",
   "id": "258c8f5a",
   "metadata": {},
   "source": [
    "#### Take user input"
   ]
  },
  {
   "cell_type": "code",
   "execution_count": 7,
   "id": "90bc019f",
   "metadata": {},
   "outputs": [],
   "source": [
    "s=\"Chinese Chinese Chinese Tokyo Japan\""
   ]
  },
  {
   "attachments": {},
   "cell_type": "markdown",
   "id": "8620b74f",
   "metadata": {},
   "source": [
    "#### Classify sentence"
   ]
  },
  {
   "cell_type": "code",
   "execution_count": 12,
   "id": "7970b89e",
   "metadata": {},
   "outputs": [],
   "source": [
    "def classifier(s,word_cnt,len_uni):\n",
    "    temp=s.split()\n",
    "    unique=set(temp)\n",
    "    prob={}\n",
    "    for cls,words in word_cnt.items():\n",
    "        cls_len=sum(words.values())   # total no of words in each class\n",
    "        \n",
    "        word_prob={}\n",
    "        for word in unique:\n",
    "            word_prob[word]=(words[word]+laplace)/(cls_len+laplace*len_uni)\n",
    "            print(\"P({} | {}) = ({} + {}) / ({} + {}) = {} / {} = {}\".format(word,cls,words[word],laplace,cls_len,\n",
    "                                                                          laplace*len_uni, words[word]+laplace,\n",
    "                                                                          cls_len+laplace*len_uni, round(word_prob[word],4)))\n",
    "        \n",
    "        \n",
    "        prob[cls]=len(df[df[class_col]==cls])/len(df)\n",
    "        for word in temp:\n",
    "            prob[cls]*=word_prob[word]\n",
    "        \n",
    "        print()\n",
    "    \n",
    "    ans=None\n",
    "    for k,v in prob.items():\n",
    "        print(\"P({} | {}) = {}\".format(k,\"s\",round(v,4)))\n",
    "        if (ans==None or prob[ans]<v):\n",
    "            ans=k\n",
    "    print()\n",
    "    return ans\n",
    "    \n",
    "    "
   ]
  },
  {
   "cell_type": "code",
   "execution_count": 13,
   "id": "fced1723",
   "metadata": {
    "scrolled": true
   },
   "outputs": [
    {
     "name": "stdout",
     "output_type": "stream",
     "text": [
      "P(tokyo | C) = (0 + 1) / (8 + 6) = 1 / 14 = 0.0714\n",
      "P(japan | C) = (0 + 1) / (8 + 6) = 1 / 14 = 0.0714\n",
      "P(chinese | C) = (5 + 1) / (8 + 6) = 6 / 14 = 0.4286\n",
      "\n",
      "P(tokyo | J) = (1 + 1) / (3 + 6) = 2 / 9 = 0.2222\n",
      "P(japan | J) = (1 + 1) / (3 + 6) = 2 / 9 = 0.2222\n",
      "P(chinese | J) = (1 + 1) / (3 + 6) = 2 / 9 = 0.2222\n",
      "\n",
      "P(C | s) = 0.0003\n",
      "P(J | s) = 0.0001\n",
      "\n",
      "Given sentence belongs to Class : C\n"
     ]
    }
   ],
   "source": [
    "ans=classifier(s.lower(),word_cnt, len(unique_words))\n",
    "print(\"Given sentence belongs to Class :\",ans)"
   ]
  }
 ],
 "metadata": {
  "kernelspec": {
   "display_name": "Python 3 (ipykernel)",
   "language": "python",
   "name": "python3"
  },
  "language_info": {
   "codemirror_mode": {
    "name": "ipython",
    "version": 3
   },
   "file_extension": ".py",
   "mimetype": "text/x-python",
   "name": "python",
   "nbconvert_exporter": "python",
   "pygments_lexer": "ipython3",
   "version": "3.10.6"
  }
 },
 "nbformat": 4,
 "nbformat_minor": 5
}
