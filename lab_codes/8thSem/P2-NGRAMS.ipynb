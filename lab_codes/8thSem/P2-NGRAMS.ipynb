{
 "cells": [
  {
   "cell_type": "code",
   "execution_count": 90,
   "id": "c8ac1c4a",
   "metadata": {},
   "outputs": [
    {
     "name": "stdout",
     "output_type": "stream",
     "text": [
      "Enter the value of N: 3\n"
     ]
    }
   ],
   "source": [
    "import re\n",
    "import math\n",
    "import pandas as pd\n",
    "\n",
    "n = int(input(\"Enter the value of N: \"))"
   ]
  },
  {
   "cell_type": "code",
   "execution_count": 89,
   "id": "13f7a78f",
   "metadata": {},
   "outputs": [],
   "source": [
    "def preprocess(text):\n",
    "    text=text.lower()\n",
    "    text=re.sub(r'[^a-zA-Z0-9\\s]','',text)\n",
    "    return text.split()"
   ]
  },
  {
   "cell_type": "code",
   "execution_count": 79,
   "id": "2e4ff314",
   "metadata": {},
   "outputs": [],
   "source": [
    "def generate_ngrams(words, n):\n",
    "    ngrams = {}\n",
    "    for i in range(len(words) - n + 1):\n",
    "        ngram = ' '.join(words[i:i+n])\n",
    "        ngrams[ngram] = ngrams.get(ngram, 0) + 1\n",
    "    return ngrams"
   ]
  },
  {
   "cell_type": "code",
   "execution_count": 80,
   "id": "a53e9714",
   "metadata": {},
   "outputs": [],
   "source": [
    "\n",
    "def calculate_probabilities(ngrams, n):\n",
    "    probabilities = {}\n",
    "    for ngram, count in ngrams.items():\n",
    "        prefix = ' '.join(ngram.split()[:-1])\n",
    "        prefix_count = sum([v for k, v in ngrams.items() if k.startswith(prefix)])\n",
    "        probabilities[ngram] = (count) / (prefix_count)\n",
    "        \n",
    "    return probabilities"
   ]
  },
  {
   "cell_type": "code",
   "execution_count": null,
   "id": "bd4b9648",
   "metadata": {},
   "outputs": [],
   "source": []
  },
  {
   "cell_type": "code",
   "execution_count": 91,
   "id": "1c88861d",
   "metadata": {},
   "outputs": [],
   "source": [
    "def calculate_sentence_probability(sentence, probabilities, n):\n",
    "    words = preprocess(sentence)\n",
    "    ngrams = generate_ngrams(words, n)\n",
    "    probability = 1\n",
    "    for ngram, count in ngrams.items():\n",
    "        probability *= probabilities.get(ngram, 1)\n",
    "    return probability"
   ]
  },
  {
   "cell_type": "code",
   "execution_count": 92,
   "id": "9fb511db",
   "metadata": {},
   "outputs": [],
   "source": [
    "def calculate_perplexity(sentence, probabilities, n):\n",
    "    probability = calculate_sentence_probability(sentence, probabilities, n)\n",
    "    return pow(2, - (1 / n) * math.log(probability))"
   ]
  },
  {
   "cell_type": "code",
   "execution_count": 93,
   "id": "11ff43f1",
   "metadata": {},
   "outputs": [
    {
     "name": "stdout",
     "output_type": "stream",
     "text": [
      "['natural', 'language', 'processing', 'is', 'an', 'area', 'of', 'computer', 'science', 'and', 'artificial', 'intelligence', 'concerned', 'with', 'the', 'interactions', 'between', 'computers', 'and', 'human', 'natural', 'languages']\n"
     ]
    }
   ],
   "source": [
    "with open('corpus.txt', 'r') as file:\n",
    "    corpus = file.read()\n",
    "\n",
    "\n",
    "words = preprocess(corpus)\n",
    "print(words)\n",
    "\n"
   ]
  },
  {
   "cell_type": "code",
   "execution_count": 94,
   "id": "a049935c",
   "metadata": {},
   "outputs": [
    {
     "name": "stdout",
     "output_type": "stream",
     "text": [
      "The 3-grams can be given as:\n",
      "\n",
      "natural language processing:-> 1\n",
      "language processing is:-> 1\n",
      "processing is an:-> 1\n",
      "is an area:-> 1\n",
      "an area of:-> 1\n",
      "area of computer:-> 1\n",
      "of computer science:-> 1\n",
      "computer science and:-> 1\n",
      "science and artificial:-> 1\n",
      "and artificial intelligence:-> 1\n",
      "artificial intelligence concerned:-> 1\n",
      "intelligence concerned with:-> 1\n",
      "concerned with the:-> 1\n",
      "with the interactions:-> 1\n",
      "the interactions between:-> 1\n",
      "interactions between computers:-> 1\n",
      "between computers and:-> 1\n",
      "computers and human:-> 1\n",
      "and human natural:-> 1\n",
      "human natural languages:-> 1\n"
     ]
    }
   ],
   "source": [
    "ngrams = generate_ngrams(words, n)\n",
    "print(f\"The {n}-grams can be given as:\\n\")\n",
    "for ngram, count in ngrams.items():\n",
    "    print(f\"{ngram}:-> {count}\")"
   ]
  },
  {
   "cell_type": "code",
   "execution_count": 96,
   "id": "8e48ac24",
   "metadata": {},
   "outputs": [
    {
     "name": "stdout",
     "output_type": "stream",
     "text": [
      "The 3-gram probabilities can be given as: \n",
      "\n",
      "natural language processing :-> 1.0\n",
      "language processing is :-> 1.0\n",
      "processing is an :-> 1.0\n",
      "is an area :-> 1.0\n",
      "an area of :-> 1.0\n",
      "area of computer :-> 1.0\n",
      "of computer science :-> 1.0\n",
      "computer science and :-> 1.0\n",
      "science and artificial :-> 1.0\n",
      "and artificial intelligence :-> 1.0\n",
      "artificial intelligence concerned :-> 1.0\n",
      "intelligence concerned with :-> 1.0\n",
      "concerned with the :-> 1.0\n",
      "with the interactions :-> 1.0\n",
      "the interactions between :-> 1.0\n",
      "interactions between computers :-> 1.0\n",
      "between computers and :-> 1.0\n",
      "computers and human :-> 1.0\n",
      "and human natural :-> 1.0\n",
      "human natural languages :-> 1.0\n"
     ]
    }
   ],
   "source": [
    "probabilities = calculate_probabilities(ngrams, n)\n",
    "print(f\"The {n}-gram probabilities can be given as: \\n\")\n",
    "for ngram, probability in probabilities.items():\n",
    "    print(f\"{ngram} :-> {probability}\")"
   ]
  },
  {
   "cell_type": "code",
   "execution_count": null,
   "id": "db8a5f42",
   "metadata": {},
   "outputs": [],
   "source": []
  },
  {
   "cell_type": "code",
   "execution_count": 97,
   "id": "002a7f73",
   "metadata": {},
   "outputs": [
    {
     "name": "stdout",
     "output_type": "stream",
     "text": [
      "Enter the test sentence: with the interactions between computers\n",
      "\n",
      "Probability of 'with the interactions between computers': 1.0\n",
      "Perplexity of model: 1.0\n"
     ]
    }
   ],
   "source": [
    "test_sentence = input(\"Enter the test sentence: \")\n",
    "print(f\"\\nProbability of '{test_sentence}': {calculate_sentence_probability(test_sentence, probabilities, n)}\")\n",
    "print(f\"Perplexity of model: {calculate_perplexity(test_sentence, probabilities, n)}\")"
   ]
  },
  {
   "cell_type": "code",
   "execution_count": null,
   "id": "bf0346ae",
   "metadata": {},
   "outputs": [],
   "source": []
  },
  {
   "cell_type": "code",
   "execution_count": null,
   "id": "9a294f17",
   "metadata": {},
   "outputs": [],
   "source": []
  },
  {
   "cell_type": "code",
   "execution_count": null,
   "id": "92911531",
   "metadata": {},
   "outputs": [],
   "source": []
  }
 ],
 "metadata": {
  "kernelspec": {
   "display_name": "Python 3 (ipykernel)",
   "language": "python",
   "name": "python3"
  },
  "language_info": {
   "codemirror_mode": {
    "name": "ipython",
    "version": 3
   },
   "file_extension": ".py",
   "mimetype": "text/x-python",
   "name": "python",
   "nbconvert_exporter": "python",
   "pygments_lexer": "ipython3",
   "version": "3.10.5"
  }
 },
 "nbformat": 4,
 "nbformat_minor": 5
}
