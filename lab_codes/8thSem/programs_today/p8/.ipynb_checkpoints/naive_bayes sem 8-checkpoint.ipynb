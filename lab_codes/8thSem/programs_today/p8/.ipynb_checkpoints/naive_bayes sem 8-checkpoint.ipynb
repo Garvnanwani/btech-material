{
 "cells": [
  {
   "cell_type": "code",
   "execution_count": 3,
   "id": "aba91980",
   "metadata": {},
   "outputs": [
    {
     "name": "stdout",
     "output_type": "stream",
     "text": [
      "['chinese beijing chinese C\\n', 'chinese chinese shanghai C\\n', 'chinese macao C\\n', 'tokyo japan chinese J\\n', 'chinese chinese tokyo japan ']\n"
     ]
    }
   ],
   "source": [
    "file = open(r\"dataset.txt\")\n",
    "Lines = file.readlines()\n",
    "print(Lines)\n",
    "dict = {}\n",
    "for line in range(len(Lines)-1) :\n",
    "    templist = []\n",
    "    for word in Lines[line].split():\n",
    "        templist.append(word)\n",
    "    label = templist.pop()\n",
    "    dict[tuple(templist)] = label"
   ]
  },
  {
   "cell_type": "code",
   "execution_count": 4,
   "id": "9958c7e4",
   "metadata": {},
   "outputs": [],
   "source": [
    "def getclassprobs(dict): \n",
    "    myclasses = {}\n",
    "    for items in dict :\n",
    "        if dict[items] in myclasses :\n",
    "            myclasses[dict[items]] += 1\n",
    "        else :\n",
    "            myclasses[dict[items]] = 1\n",
    "    for items in myclasses :\n",
    "        myclasses[items] = float(myclasses[items]/len(dict))\n",
    "    return myclasses"
   ]
  },
  {
   "cell_type": "code",
   "execution_count": 5,
   "id": "a5644a60",
   "metadata": {},
   "outputs": [],
   "source": [
    "def getvocab(dictionary):\n",
    "    vocab = set()\n",
    "    for items in dictionary :\n",
    "        for words in items :\n",
    "            vocab.add(words)\n",
    "    return vocab"
   ]
  },
  {
   "cell_type": "code",
   "execution_count": 6,
   "id": "138d8f66",
   "metadata": {},
   "outputs": [],
   "source": [
    "def gettestwords():\n",
    "    test = Lines[len(Lines)-1]\n",
    "    testwords = []\n",
    "    for word in test.split():\n",
    "        testwords.append(word)\n",
    "    return testwords"
   ]
  },
  {
   "cell_type": "code",
   "execution_count": 7,
   "id": "b0a2ea2d",
   "metadata": {},
   "outputs": [
    {
     "name": "stdout",
     "output_type": "stream",
     "text": [
      "{'macao', 'chinese', 'beijing', 'japan', 'tokyo', 'shanghai'}\n",
      "6\n"
     ]
    }
   ],
   "source": [
    "#vocabulary\n",
    "vocab = getvocab(dict)\n",
    "print(vocab)\n",
    "vocablen = len(vocab)\n",
    "print(vocablen)"
   ]
  },
  {
   "cell_type": "code",
   "execution_count": 8,
   "id": "502a3ae3",
   "metadata": {},
   "outputs": [],
   "source": [
    "def getprob(wordc, clas):\n",
    "    count = 0\n",
    "    totalword = 0\n",
    "    for items in dict :\n",
    "        for word in items :\n",
    "            if dict[items] == clas :\n",
    "                totalword += 1\n",
    "            if word == wordc and dict[items] == clas:\n",
    "                count += 1\n",
    "    return (count+1)/(totalword+vocablen)"
   ]
  },
  {
   "cell_type": "code",
   "execution_count": 9,
   "id": "10199eba",
   "metadata": {},
   "outputs": [
    {
     "name": "stdout",
     "output_type": "stream",
     "text": [
      "{'C': 0.75, 'J': 0.25}\n"
     ]
    }
   ],
   "source": [
    "#class probabilities\n",
    "myclasses = getclassprobs(dict)\n",
    "print(myclasses)"
   ]
  },
  {
   "cell_type": "code",
   "execution_count": 10,
   "id": "49c377d2",
   "metadata": {},
   "outputs": [
    {
     "name": "stdout",
     "output_type": "stream",
     "text": [
      "C->0.0007028321532694709\n",
      "J->0.0006096631611034902\n",
      "C\n"
     ]
    }
   ],
   "source": [
    "#test words \n",
    "finalclass = ' '\n",
    "finalprob = 0\n",
    "testwords = gettestwords()\n",
    "for clas in myclasses :\n",
    "    prob = 1\n",
    "    prob *= myclasses[clas]\n",
    "    for word in testwords :\n",
    "        prob *= getprob(word,clas)\n",
    "    print(str(clas)+\"->\"+str(prob))\n",
    "    if prob > finalprob :\n",
    "        finalclass = clas \n",
    "        finalprob = prob\n",
    "    \n",
    "print(finalclass)"
   ]
  },
  {
   "cell_type": "code",
   "execution_count": null,
   "id": "813679ac",
   "metadata": {},
   "outputs": [],
   "source": []
  },
  {
   "cell_type": "code",
   "execution_count": null,
   "id": "70264a35",
   "metadata": {},
   "outputs": [],
   "source": []
  },
  {
   "cell_type": "code",
   "execution_count": null,
   "id": "070f0ce9",
   "metadata": {},
   "outputs": [],
   "source": []
  }
 ],
 "metadata": {
  "kernelspec": {
   "display_name": "Python 3 (ipykernel)",
   "language": "python",
   "name": "python3"
  },
  "language_info": {
   "codemirror_mode": {
    "name": "ipython",
    "version": 3
   },
   "file_extension": ".py",
   "mimetype": "text/x-python",
   "name": "python",
   "nbconvert_exporter": "python",
   "pygments_lexer": "ipython3",
   "version": "3.9.13"
  }
 },
 "nbformat": 4,
 "nbformat_minor": 5
}
